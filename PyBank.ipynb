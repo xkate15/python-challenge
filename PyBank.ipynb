{
 "cells": [
  {
   "cell_type": "code",
   "execution_count": 4,
   "id": "fb32c567",
   "metadata": {},
   "outputs": [],
   "source": [
    "import pandas as pd"
   ]
  },
  {
   "cell_type": "code",
   "execution_count": 6,
   "id": "aa36f8cb",
   "metadata": {
    "scrolled": false
   },
   "outputs": [
    {
     "data": {
      "text/html": [
       "<div>\n",
       "<style scoped>\n",
       "    .dataframe tbody tr th:only-of-type {\n",
       "        vertical-align: middle;\n",
       "    }\n",
       "\n",
       "    .dataframe tbody tr th {\n",
       "        vertical-align: top;\n",
       "    }\n",
       "\n",
       "    .dataframe thead th {\n",
       "        text-align: right;\n",
       "    }\n",
       "</style>\n",
       "<table border=\"1\" class=\"dataframe\">\n",
       "  <thead>\n",
       "    <tr style=\"text-align: right;\">\n",
       "      <th></th>\n",
       "      <th>Date</th>\n",
       "      <th>Profit/Losses</th>\n",
       "    </tr>\n",
       "  </thead>\n",
       "  <tbody>\n",
       "    <tr>\n",
       "      <th>0</th>\n",
       "      <td>Jan-10</td>\n",
       "      <td>1088983</td>\n",
       "    </tr>\n",
       "    <tr>\n",
       "      <th>1</th>\n",
       "      <td>Feb-10</td>\n",
       "      <td>-354534</td>\n",
       "    </tr>\n",
       "    <tr>\n",
       "      <th>2</th>\n",
       "      <td>Mar-10</td>\n",
       "      <td>276622</td>\n",
       "    </tr>\n",
       "    <tr>\n",
       "      <th>3</th>\n",
       "      <td>Apr-10</td>\n",
       "      <td>-728133</td>\n",
       "    </tr>\n",
       "    <tr>\n",
       "      <th>4</th>\n",
       "      <td>May-10</td>\n",
       "      <td>852993</td>\n",
       "    </tr>\n",
       "  </tbody>\n",
       "</table>\n",
       "</div>"
      ],
      "text/plain": [
       "     Date  Profit/Losses\n",
       "0  Jan-10        1088983\n",
       "1  Feb-10        -354534\n",
       "2  Mar-10         276622\n",
       "3  Apr-10        -728133\n",
       "4  May-10         852993"
      ]
     },
     "execution_count": 6,
     "metadata": {},
     "output_type": "execute_result"
    }
   ],
   "source": [
    "data_file = \"C:/Users/xkate/UTDataCamp/UTOR-VIRT-DATA-PT-10-2022-U-LOLC-main-Module 03 - Python-Homework-Instructions/Module 03 - Python/Homework/Instructions/PyBank\\Resources/budget_data.csv\"\n",
    "data_file_df = pd.read_csv(data_file)\n",
    "data_file_df.head()\n"
   ]
  },
  {
   "cell_type": "code",
   "execution_count": 7,
   "id": "37581ceb",
   "metadata": {},
   "outputs": [
    {
     "name": "stdout",
     "output_type": "stream",
     "text": [
      "0     Jan-10\n",
      "1     Feb-10\n",
      "2     Mar-10\n",
      "3     Apr-10\n",
      "4     May-10\n",
      "       ...  \n",
      "81    Oct-16\n",
      "82    Nov-16\n",
      "83    Dec-16\n",
      "84    Jan-17\n",
      "85    Feb-17\n",
      "Name: Date, Length: 86, dtype: object\n",
      "Total Months:  86\n"
     ]
    }
   ],
   "source": [
    "months_list = data_file_df[\"Date\"]\n",
    "print(months_list)\n",
    "print(\"Total Months: \",len(months_list))"
   ]
  },
  {
   "cell_type": "code",
   "execution_count": 8,
   "id": "35b77b68",
   "metadata": {},
   "outputs": [
    {
     "name": "stdout",
     "output_type": "stream",
     "text": [
      "Total:  $ 22564198\n"
     ]
    }
   ],
   "source": [
    "total = data_file_df[\"Profit/Losses\"].sum()\n",
    "total\n",
    "print(\"Total:\",\" $\",total)"
   ]
  },
  {
   "cell_type": "code",
   "execution_count": 9,
   "id": "f57e5c81",
   "metadata": {},
   "outputs": [
    {
     "name": "stdout",
     "output_type": "stream",
     "text": [
      "Average Change:  $ 262374.3953488372\n"
     ]
    }
   ],
   "source": [
    "average = data_file_df[\"Profit/Losses\"].mean()\n",
    "average\n",
    "print(\"Average Change: \",\"$\",average)"
   ]
  },
  {
   "cell_type": "code",
   "execution_count": 21,
   "id": "43cea7ea",
   "metadata": {},
   "outputs": [
    {
     "name": "stdout",
     "output_type": "stream",
     "text": [
      "Greatest Increase in Profits:  Date              Sep-16\n",
      "Profit/Losses    1141840\n",
      "dtype: object\n"
     ]
    }
   ],
   "source": [
    "max = data_file_df[[\"Date\",\"Profit/Losses\"]].max()\n",
    "max\n",
    "print(\"Greatest Increase in Profits: \", max)"
   ]
  },
  {
   "cell_type": "code",
   "execution_count": 20,
   "id": "23de0afc",
   "metadata": {},
   "outputs": [
    {
     "name": "stdout",
     "output_type": "stream",
     "text": [
      "Greatest Decrease in Profits:  Date               Apr-10\n",
      "Profit/Losses    -1194133\n",
      "dtype: object\n"
     ]
    }
   ],
   "source": [
    "min = data_file_df[[\"Date\",\"Profit/Losses\"]].min()\n",
    "min\n",
    "print(\"Greatest Decrease in Profits: \", min)"
   ]
  },
  {
   "cell_type": "code",
   "execution_count": null,
   "id": "692c67fb",
   "metadata": {},
   "outputs": [],
   "source": []
  },
  {
   "cell_type": "code",
   "execution_count": null,
   "id": "39309d1b",
   "metadata": {},
   "outputs": [],
   "source": []
  },
  {
   "cell_type": "code",
   "execution_count": null,
   "id": "3fef0b0d",
   "metadata": {},
   "outputs": [],
   "source": []
  }
 ],
 "metadata": {
  "kernelspec": {
   "display_name": "Python 3 (ipykernel)",
   "language": "python",
   "name": "python3"
  },
  "language_info": {
   "codemirror_mode": {
    "name": "ipython",
    "version": 3
   },
   "file_extension": ".py",
   "mimetype": "text/x-python",
   "name": "python",
   "nbconvert_exporter": "python",
   "pygments_lexer": "ipython3",
   "version": "3.9.13"
  }
 },
 "nbformat": 4,
 "nbformat_minor": 5
}
